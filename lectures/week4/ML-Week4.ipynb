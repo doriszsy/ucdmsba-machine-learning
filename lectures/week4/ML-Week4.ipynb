{
 "cells": [
  {
   "cell_type": "markdown",
   "metadata": {
    "slideshow": {
     "slide_type": "slide"
    }
   },
   "source": [
    "# BAX 452\n",
    "### Session 4:  Duration 5:45 pm - 8:30 pm w/ 15 minute Break\n",
    "* Quiz 4:  5:45pm-6pm\n",
    "* Review Homework Assignment 3 (Class Discussion):  6pm-6:30pm\n",
    "* Lecture Part 1:  ML Overview:  6:30pm-7pm\n",
    "* Break:  7pm-7:15pm\n",
    "* Lecture Part 2:  Linear Regression in Machine Learning:  7:15pm-8pm\n",
    "* Project Team Case Study:  Predicting Home Prices 8pm-8:30pm\n"
   ]
  },
  {
   "cell_type": "markdown",
   "metadata": {
    "slideshow": {
     "slide_type": "slide"
    }
   },
   "source": [
    "## Quiz 4: 5:45pm-6pm"
   ]
  },
  {
   "cell_type": "markdown",
   "metadata": {
    "slideshow": {
     "slide_type": "slide"
    }
   },
   "source": [
    "## Review Homework Assignment 3 (Class Discussion): 6pm-6:30pm\n",
    "\n",
    "* What issues came up with doing faceted plotting in ggplot?\n",
    "* Why does clustering fit well with faceted plotting?\n",
    "* What did you discover using a correlation heatmap on your dataset?\n",
    "* What conclusions can be made from the experimentations on test and training Data ratios?\n",
    "* Does anyone have a project they wish to share?\n"
   ]
  },
  {
   "cell_type": "markdown",
   "metadata": {
    "slideshow": {
     "slide_type": "slide"
    }
   },
   "source": [
    "## Machine Learning Overview: 6:30pm-7pm\n"
   ]
  },
  {
   "cell_type": "markdown",
   "metadata": {
    "slideshow": {
     "slide_type": "subslide"
    }
   },
   "source": [
    "## Machine Learning Feedback Loop\n",
    "\n",
    "* collecting data\n",
    "* exploring (EDA) and preparing the data:  80% of the work\n",
    "* training a model on the data\n",
    "* evaluating model performance\n",
    "* Improving model performance, if needed"
   ]
  },
  {
   "cell_type": "markdown",
   "metadata": {
    "slideshow": {
     "slide_type": "subslide"
    }
   },
   "source": [
    "![ML Pipeline Overview](https://user-images.githubusercontent.com/58792/35464450-d79e5804-02aa-11e8-84ba-77cee13af3c3.png)"
   ]
  },
  {
   "cell_type": "markdown",
   "metadata": {
    "slideshow": {
     "slide_type": "slide"
    }
   },
   "source": [
    "## High Level R ML Pipeline (Using Caret Library)\n",
    "\n",
    "```R\n",
    "#combine all data from facebook, twitter and wikipedia\n",
    "combined_model <- function(analytics_file){\n",
    "\tfb_data <- clean_facebook_data(analytics_file,10,10)\n",
    "\ttw_data <- clean_twitter_data(analytics_file,10)\n",
    "\twiki_data <- clean_wikipedia(analytics_file, 3)\n",
    "\tcombined <- merge(fb_data,tw_data,by='author_id')\n",
    "\tcombined <- merge(combined,wiki_data,by='author_id')\n",
    "\treturn(combined)\n",
    "}\n",
    "\n",
    "#determine knn clustering from combined model\n",
    "caret_knn <- function(knn_set, observed){\n",
    "\tknnFit <- train(knn_set, observed,\n",
    "                method=\"knn\", preProc=c(\"center\", \"scale\"),\n",
    "                tuneLength = 30,trainControl(method=\"cv\"))\n",
    "\treturn(knnFit)\n",
    "}\n",
    "\n",
    "\n",
    "#Read in the data, clean it up, and create test and training set\n",
    "prepare_network_data <- function(analytics_file, desired_cols, post_col) {\n",
    "    data <- clean_data(analytics_file, desired_cols, post_col, min_posts=10)\n",
    "\n",
    "    #Add grouping column by finding rows\n",
    "    data$gp <- runif(dim(data)[1])\n",
    "    test_set <- subset(data, gp <= 0.2)\n",
    "    training_set <- subset(data, gp > 0.2)\n",
    "    network_metadata <- list(data,test_set, training_set)\n",
    "    return(network_metadata)\n",
    "}\n",
    "\n",
    "#calculates Mean Absolute Error\n",
    "MAE <- function(actual, predicted){\n",
    "    result <- mean(abs(actual - predicted))\n",
    "    return(result)\n",
    "}\n",
    "```"
   ]
  },
  {
   "cell_type": "code",
   "execution_count": 1,
   "metadata": {
    "slideshow": {
     "slide_type": "slide"
    }
   },
   "outputs": [
    {
     "data": {
      "text/html": [
       "<div>\n",
       "<style scoped>\n",
       "    .dataframe tbody tr th:only-of-type {\n",
       "        vertical-align: middle;\n",
       "    }\n",
       "\n",
       "    .dataframe tbody tr th {\n",
       "        vertical-align: top;\n",
       "    }\n",
       "\n",
       "    .dataframe thead th {\n",
       "        text-align: right;\n",
       "    }\n",
       "</style>\n",
       "<table border=\"1\" class=\"dataframe\">\n",
       "  <thead>\n",
       "    <tr style=\"text-align: right;\">\n",
       "      <th></th>\n",
       "      <th>twitter_rank</th>\n",
       "      <th>facebook_rank</th>\n",
       "      <th>other_rank</th>\n",
       "      <th>page_views</th>\n",
       "      <th>number_of_posts</th>\n",
       "      <th>median_page_views_post</th>\n",
       "      <th>cum pageviews</th>\n",
       "      <th>total pageviews</th>\n",
       "      <th>cum percentage pageviews</th>\n",
       "    </tr>\n",
       "  </thead>\n",
       "  <tbody>\n",
       "    <tr>\n",
       "      <th>0</th>\n",
       "      <td>59</td>\n",
       "      <td>6</td>\n",
       "      <td>45</td>\n",
       "      <td>238871</td>\n",
       "      <td>59</td>\n",
       "      <td>943.000</td>\n",
       "      <td>238871</td>\n",
       "      <td>1932905</td>\n",
       "      <td>12.36%</td>\n",
       "    </tr>\n",
       "    <tr>\n",
       "      <th>1</th>\n",
       "      <td>52</td>\n",
       "      <td>7</td>\n",
       "      <td>159</td>\n",
       "      <td>169154</td>\n",
       "      <td>119</td>\n",
       "      <td>675.500</td>\n",
       "      <td>408025</td>\n",
       "      <td>1932905</td>\n",
       "      <td>21.11%</td>\n",
       "    </tr>\n",
       "    <tr>\n",
       "      <th>2</th>\n",
       "      <td>3</td>\n",
       "      <td>2</td>\n",
       "      <td>153</td>\n",
       "      <td>165224</td>\n",
       "      <td>13</td>\n",
       "      <td>9448.000</td>\n",
       "      <td>573249</td>\n",
       "      <td>1932905</td>\n",
       "      <td>29.66%</td>\n",
       "    </tr>\n",
       "    <tr>\n",
       "      <th>3</th>\n",
       "      <td>1</td>\n",
       "      <td>3</td>\n",
       "      <td>152</td>\n",
       "      <td>118696</td>\n",
       "      <td>10</td>\n",
       "      <td>10761.000</td>\n",
       "      <td>691945</td>\n",
       "      <td>1932905</td>\n",
       "      <td>35.80%</td>\n",
       "    </tr>\n",
       "    <tr>\n",
       "      <th>4</th>\n",
       "      <td>10</td>\n",
       "      <td>4</td>\n",
       "      <td>154</td>\n",
       "      <td>107180</td>\n",
       "      <td>7</td>\n",
       "      <td>5864.000</td>\n",
       "      <td>799125</td>\n",
       "      <td>1932905</td>\n",
       "      <td>41.34%</td>\n",
       "    </tr>\n",
       "    <tr>\n",
       "      <th>5</th>\n",
       "      <td>6</td>\n",
       "      <td>30</td>\n",
       "      <td>156</td>\n",
       "      <td>94387</td>\n",
       "      <td>31</td>\n",
       "      <td>1265.000</td>\n",
       "      <td>893512</td>\n",
       "      <td>1932905</td>\n",
       "      <td>46.23%</td>\n",
       "    </tr>\n",
       "    <tr>\n",
       "      <th>6</th>\n",
       "      <td>2</td>\n",
       "      <td>35</td>\n",
       "      <td>155</td>\n",
       "      <td>92604</td>\n",
       "      <td>31</td>\n",
       "      <td>2604.000</td>\n",
       "      <td>986116</td>\n",
       "      <td>1932905</td>\n",
       "      <td>51.02%</td>\n",
       "    </tr>\n",
       "    <tr>\n",
       "      <th>7</th>\n",
       "      <td>38</td>\n",
       "      <td>19</td>\n",
       "      <td>165</td>\n",
       "      <td>78262</td>\n",
       "      <td>24</td>\n",
       "      <td>252.000</td>\n",
       "      <td>1064378</td>\n",
       "      <td>1932905</td>\n",
       "      <td>55.07%</td>\n",
       "    </tr>\n",
       "    <tr>\n",
       "      <th>8</th>\n",
       "      <td>11</td>\n",
       "      <td>5</td>\n",
       "      <td>126</td>\n",
       "      <td>46037</td>\n",
       "      <td>14</td>\n",
       "      <td>1864.500</td>\n",
       "      <td>1110415</td>\n",
       "      <td>1932905</td>\n",
       "      <td>57.45%</td>\n",
       "    </tr>\n",
       "    <tr>\n",
       "      <th>9</th>\n",
       "      <td>75</td>\n",
       "      <td>10</td>\n",
       "      <td>163</td>\n",
       "      <td>42456</td>\n",
       "      <td>45</td>\n",
       "      <td>419.000</td>\n",
       "      <td>1152871</td>\n",
       "      <td>1932905</td>\n",
       "      <td>59.64%</td>\n",
       "    </tr>\n",
       "  </tbody>\n",
       "</table>\n",
       "</div>"
      ],
      "text/plain": [
       "   twitter_rank  facebook_rank  other_rank  page_views  number_of_posts  \\\n",
       "0            59              6          45      238871               59   \n",
       "1            52              7         159      169154              119   \n",
       "2             3              2         153      165224               13   \n",
       "3             1              3         152      118696               10   \n",
       "4            10              4         154      107180                7   \n",
       "5             6             30         156       94387               31   \n",
       "6             2             35         155       92604               31   \n",
       "7            38             19         165       78262               24   \n",
       "8            11              5         126       46037               14   \n",
       "9            75             10         163       42456               45   \n",
       "\n",
       "   median_page_views_post  cum pageviews  total pageviews  \\\n",
       "0                 943.000         238871          1932905   \n",
       "1                 675.500         408025          1932905   \n",
       "2                9448.000         573249          1932905   \n",
       "3               10761.000         691945          1932905   \n",
       "4                5864.000         799125          1932905   \n",
       "5                1265.000         893512          1932905   \n",
       "6                2604.000         986116          1932905   \n",
       "7                 252.000        1064378          1932905   \n",
       "8                1864.500        1110415          1932905   \n",
       "9                 419.000        1152871          1932905   \n",
       "\n",
       "  cum percentage pageviews  \n",
       "0                   12.36%  \n",
       "1                   21.11%  \n",
       "2                   29.66%  \n",
       "3                   35.80%  \n",
       "4                   41.34%  \n",
       "5                   46.23%  \n",
       "6                   51.02%  \n",
       "7                   55.07%  \n",
       "8                   57.45%  \n",
       "9                   59.64%  "
      ]
     },
     "execution_count": 1,
     "metadata": {},
     "output_type": "execute_result"
    }
   ],
   "source": [
    "import pandas as pd\n",
    "pd.set_option('display.float_format', lambda x: '%.3f' % x)\n",
    "import numpy as np\n",
    "import matplotlib.pyplot as plt\n",
    "import seaborn as sns\n",
    "import seaborn as sns; sns.set(color_codes=True)\n",
    "from sklearn.cluster import KMeans\n",
    "color = sns.color_palette()\n",
    "#from IPython.core.display import display, HTML\n",
    "#display(HTML(\"<style>.container { width:100% !important; }</style>\"))\n",
    "%matplotlib inline\n",
    "df = pd.read_csv(\"https://raw.githubusercontent.com/noahgift/ucdmsba-machine-learning/master/data/celebrity_rank.csv\")\n",
    "df.head(10)"
   ]
  },
  {
   "cell_type": "markdown",
   "metadata": {
    "slideshow": {
     "slide_type": "slide"
    }
   },
   "source": [
    "## Non-Linear Relationship Doesn't Work Great with Vanilla Linear Regression\n",
    "\n",
    "* One reason why 80% of the time should be spent in EDA and collection\n",
    "* Need to have enough data\n",
    "* Need to know shape of data:  linear...or non-linear?\n",
    "* Be humble, especially with money or people's lives at stake"
   ]
  },
  {
   "cell_type": "code",
   "execution_count": 2,
   "metadata": {
    "slideshow": {
     "slide_type": "subslide"
    }
   },
   "outputs": [
    {
     "data": {
      "text/plain": [
       "<matplotlib.axes._subplots.AxesSubplot at 0x119312198>"
      ]
     },
     "execution_count": 2,
     "metadata": {},
     "output_type": "execute_result"
    },
    {
     "data": {
      "image/png": "[encoded data removed]",
      "text/plain": [
       "<matplotlib.figure.Figure at 0x1081944a8>"
      ]
     },
     "metadata": {},
     "output_type": "display_data"
    }
   ],
   "source": [
    "fig, ax = plt.subplots()\n",
    "ax.set_title('Celebrity Power Law at Work')\n",
    "fig.set_size_inches(11.7, 8.27)\n",
    "sns.regplot(x=df[\"cum pageviews\"], y=df[\"number_of_posts\"], color=\"g\",logx=True, ax=ax)\n"
   ]
  },
  {
   "cell_type": "markdown",
   "metadata": {
    "slideshow": {
     "slide_type": "slide"
    }
   },
   "source": [
    "## What Happened In Real Life to Prediction Model\n",
    "\n",
    "## (Note Millions of Dollars are behind this model!)\n",
    "![Predicted vs Actual](https://user-images.githubusercontent.com/58792/35465715-e5de43c2-02b2-11e8-9a9e-104d9eca387e.png)"
   ]
  },
  {
   "cell_type": "markdown",
   "metadata": {
    "slideshow": {
     "slide_type": "slide"
    }
   },
   "source": [
    "# Actual Pageviews After ML Model Goes Live\n",
    "![Actual Pageviews](https://user-images.githubusercontent.com/58792/35465722-f077040e-02b2-11e8-87bf-1a17426b7dcb.png)\n"
   ]
  },
  {
   "cell_type": "markdown",
   "metadata": {
    "slideshow": {
     "slide_type": "slide"
    }
   },
   "source": [
    "## ML Web Applications Also Created\n",
    "\n",
    "### Good example of clustering business use case in Action\n",
    "### Works as a companion to ML model (helping explain it further)\n",
    "![ML Web Appplication](https://user-images.githubusercontent.com/58792/35465731-fa6d6c28-02b2-11e8-8d9d-af142a5448e2.png)\n"
   ]
  },
  {
   "cell_type": "markdown",
   "metadata": {
    "slideshow": {
     "slide_type": "slide"
    }
   },
   "source": [
    "## Break:  7pm-7:15pm"
   ]
  },
  {
   "cell_type": "markdown",
   "metadata": {
    "slideshow": {
     "slide_type": "slide"
    }
   },
   "source": [
    "## Lecture Linear Regression Part 2: 7:15pm-7:45pm\n"
   ]
  },
  {
   "cell_type": "markdown",
   "metadata": {
    "slideshow": {
     "slide_type": "slide"
    }
   },
   "source": [
    "### Generalized Linear Models\n",
    "\n",
    "Predict Y hat\n",
    "\n",
    "![Mathmatical Notation](http://scikit-learn.org/stable/_images/math/334dd847bce79ed52a760f02b3efd8faefdb6e8b.png)"
   ]
  },
  {
   "cell_type": "markdown",
   "metadata": {},
   "source": [
    "### Linear Regression is the 800 lb Gorilla prediction\n",
    "\n",
    "* Never a bad place to start\n",
    "* Can even think about linear regression as a form of EDA\n",
    "* Even against some non-linear data it is performs ok\n",
    "\n",
    "![Gorilla](https://user-images.githubusercontent.com/58792/35466062-87d9d64e-02b5-11e8-8614-5f78ae9c737e.jpg)"
   ]
  },
  {
   "cell_type": "markdown",
   "metadata": {},
   "source": [
    "## What is linear regression used for?\n",
    "\n",
    "* One view of machine learning is that ML consists of development of regression models with the Prediction goal\n",
    "(matloff)\n",
    "* Predicting a continuous variable\n",
    "* Forecasting the future\n",
    "\n",
    "![Linear Regression](http://scikit-learn.org/stable/_images/sphx_glr_plot_ols_001.png)"
   ]
  },
  {
   "cell_type": "markdown",
   "metadata": {},
   "source": [
    "## Libraries for ML based Linear Regression\n",
    "* In Python [scikit-learn](http://scikit-learn.org/stable/auto_examples/linear_model/plot_ols.html).  Many different techniques to explore.\n",
    "\n",
    "- Ordinary Least Squares\n",
    "- Ridge Regression\n",
    "- Lasso\n",
    "- Bayesian Regression\n",
    "- Robustness regression\n",
    "\n",
    "* In R [Caret](https://topepo.github.io/caret/model-training-and-tuning.html)\n",
    "- knnRegression\n",
    "- (too many to mention)\n",
    "- Lots of help with [splitting data] (https://topepo.github.io/caret/data-splitting.html)\n",
    "\n",
    "\n"
   ]
  },
  {
   "cell_type": "markdown",
   "metadata": {},
   "source": [
    "## Biggest Takeaways from classic linear regression\n",
    "\n",
    "* Use cross-fold validation techniques\n",
    "* Judge performance using metrics like RMSE (Root Mean Square Error) vs R-Squared and P-Value"
   ]
  },
  {
   "cell_type": "markdown",
   "metadata": {},
   "source": [
    "## Exploration of Zillow Home Prices \n"
   ]
  },
  {
   "cell_type": "markdown",
   "metadata": {},
   "source": [
    "## Project Team Case Study: Predicting Home Prices: 7:45pm-8:30pm\n",
    "\n",
    "* Do a Github Fork of The Machine Learning for Real Estate Notebook:  https://github.com/noahgift/real_estate_ml.\n",
    "* Work off the explore_zillow_data_sets.ipynb notebook and create two regression predictions:\n",
    "\n",
    "- Predict Home Prices in a zip code:  i.e. 94901\n",
    "- Predict Median Home Prices for United States\n",
    "\n",
    "* Submit link to project in Canvas\n"
   ]
  },
  {
   "cell_type": "code",
   "execution_count": null,
   "metadata": {},
   "outputs": [],
   "source": []
  }
 ],
 "metadata": {
  "celltoolbar": "Slideshow",
  "kernelspec": {
   "display_name": "Python 3",
   "language": "python",
   "name": "python3"
  },
  "language_info": {
   "codemirror_mode": {
    "name": "ipython",
    "version": 3
   },
   "file_extension": ".py",
   "mimetype": "text/x-python",
   "name": "python",
   "nbconvert_exporter": "python",
   "pygments_lexer": "ipython3",
   "version": "3.6.4"
  }
 },
 "nbformat": 4,
 "nbformat_minor": 2
}
